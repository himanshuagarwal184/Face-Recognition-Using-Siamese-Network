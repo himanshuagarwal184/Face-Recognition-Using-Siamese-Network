{
 "cells": [
  {
   "cell_type": "code",
   "execution_count": null,
   "metadata": {},
   "outputs": [],
   "source": [
    "!pip install tensorflow tensorflow-gpu opencv-python matplotlib"
   ]
  },
  {
   "cell_type": "markdown",
   "metadata": {},
   "source": [
    "Dependencies"
   ]
  },
  {
   "cell_type": "code",
   "execution_count": null,
   "metadata": {},
   "outputs": [],
   "source": [
    "!pip install matplotlib"
   ]
  },
  {
   "cell_type": "code",
   "execution_count": 1,
   "metadata": {},
   "outputs": [],
   "source": [
    "import cv2\n",
    "import os\n",
    "import random\n",
    "import numpy as np\n",
    "import matplotlib.pyplot as plt"
   ]
  },
  {
   "cell_type": "code",
   "execution_count": 2,
   "metadata": {},
   "outputs": [],
   "source": [
    "import tensorflow as tf"
   ]
  },
  {
   "cell_type": "code",
   "execution_count": 3,
   "metadata": {},
   "outputs": [],
   "source": [
    "from tensorflow.keras.models import Model\n",
    "from tensorflow.keras.layers import Layer,Conv2D,Dense,MaxPooling2D,Input,Flatten"
   ]
  },
  {
   "cell_type": "markdown",
   "metadata": {},
   "source": [
    "GPU Growth"
   ]
  },
  {
   "cell_type": "code",
   "execution_count": 4,
   "metadata": {},
   "outputs": [],
   "source": [
    "gpus = tf.config.experimental.list_physical_devices('GPU')\n",
    "for gpu in gpus:\n",
    "    tf.config.experimental.set_memory_growth(gpu,True)"
   ]
  },
  {
   "cell_type": "code",
   "execution_count": 5,
   "metadata": {},
   "outputs": [
    {
     "data": {
      "text/plain": [
       "[PhysicalDevice(name='/physical_device:GPU:0', device_type='GPU')]"
      ]
     },
     "execution_count": 5,
     "metadata": {},
     "output_type": "execute_result"
    }
   ],
   "source": [
    "gpus"
   ]
  },
  {
   "cell_type": "code",
   "execution_count": 6,
   "metadata": {},
   "outputs": [
    {
     "data": {
      "text/plain": [
       "'2.10.1'"
      ]
     },
     "execution_count": 6,
     "metadata": {},
     "output_type": "execute_result"
    }
   ],
   "source": [
    "tf.__version__"
   ]
  },
  {
   "cell_type": "markdown",
   "metadata": {},
   "source": [
    "Folder Structure"
   ]
  },
  {
   "cell_type": "code",
   "execution_count": 7,
   "metadata": {},
   "outputs": [],
   "source": [
    "#setup path\n",
    "\n",
    "positive_pth = os.path.join('data','pos')\n",
    "negetive_pth = os.path.join('data','neg')\n",
    "anchor_pth = os.path.join('data','anchor')\n"
   ]
  },
  {
   "cell_type": "code",
   "execution_count": null,
   "metadata": {},
   "outputs": [],
   "source": [
    "\n",
    "os.makedirs(positive_pth)\n",
    "os.makedirs(negetive_pth)\n",
    "os.makedirs(anchor_pth)"
   ]
  },
  {
   "cell_type": "markdown",
   "metadata": {},
   "source": [
    "Gathering Data"
   ]
  },
  {
   "cell_type": "code",
   "execution_count": null,
   "metadata": {},
   "outputs": [],
   "source": [
    "!tar -xf lfw.tgz"
   ]
  },
  {
   "cell_type": "code",
   "execution_count": null,
   "metadata": {},
   "outputs": [],
   "source": [
    "for directory in os.listdir('lfw'):\n",
    "    for file in os.listdir(os.path.join('lfw',directory)):\n",
    "        ex_path = os.path.join('lfw',directory,file)\n",
    "        new_path = os.path.join(negetive_pth,file)\n",
    "        os.replace(ex_path,new_path)"
   ]
  },
  {
   "cell_type": "markdown",
   "metadata": {},
   "source": [
    "Collection Positive and Anchor classes"
   ]
  },
  {
   "cell_type": "code",
   "execution_count": 8,
   "metadata": {},
   "outputs": [],
   "source": [
    "#Universally Unique identifier is used to generate unique images names\n",
    "import uuid"
   ]
  },
  {
   "cell_type": "code",
   "execution_count": 9,
   "metadata": {},
   "outputs": [
    {
     "data": {
      "text/plain": [
       "UUID('c95f14a9-8574-11ee-9331-b46bfcf3aa97')"
      ]
     },
     "execution_count": 9,
     "metadata": {},
     "output_type": "execute_result"
    }
   ],
   "source": [
    "uuid.uuid1()"
   ]
  },
  {
   "cell_type": "code",
   "execution_count": 10,
   "metadata": {},
   "outputs": [
    {
     "data": {
      "text/plain": [
       "'c9e5d870-8574-11ee-a623-b46bfcf3aa97.jpg'"
      ]
     },
     "execution_count": 10,
     "metadata": {},
     "output_type": "execute_result"
    }
   ],
   "source": [
    "'{}.jpg'.format(uuid.uuid1())"
   ]
  },
  {
   "cell_type": "code",
   "execution_count": null,
   "metadata": {},
   "outputs": [],
   "source": [
    "#Accessing the webcam\n",
    "cap = cv2.VideoCapture(0)\n",
    "while True:\n",
    "    ret,frame = cap.read()\n",
    "    frame = frame[120:120+250,200:200+250, :]\n",
    "\n",
    "    #collecting positives\n",
    "    if(cv2.waitKey(1) & 0xff== ord('p')):\n",
    "        img_name = os.path.join(positive_pth,'{}.jpg'.format(uuid.uuid1()))\n",
    "        cv2.imwrite(img_name,frame)\n",
    "        pass\n",
    "\n",
    "    #collecting anchors\n",
    "    if(cv2.waitKey(1) & 0xff== ord('a')):\n",
    "        img_name = os.path.join(anchor_pth,'{}.jpg'.format(uuid.uuid1()))\n",
    "        cv2.imwrite(img_name,frame)\n",
    "\n",
    "    cv2.imshow('webcam',frame)\n",
    "    #closing the webcam using 'q'\n",
    "    if(cv2.waitKey(1) & 0xff== ord('q')):\n",
    "        break\n",
    "cap.release()\n",
    "cv2.destroyAllWindows()"
   ]
  },
  {
   "cell_type": "markdown",
   "metadata": {},
   "source": [
    "Data Augmentation # added later for better accuracy"
   ]
  },
  {
   "cell_type": "code",
   "execution_count": 11,
   "metadata": {},
   "outputs": [],
   "source": [
    "def data_augmentation(img):\n",
    "    data=[]\n",
    "    for i in range(9):\n",
    "        img = tf.image.stateless_random_brightness(img,max_delta=.02,seed=(1,2))\n",
    "        img = tf.image.stateless_random_contrast(img,lower=.6,upper=1,seed=(1,3))\n",
    "        img = tf.image.stateless_random_flip_left_right(img,seed=(np.random.randint(100),np.random.randint(100)))\n",
    "        img = tf.image.stateless_random_jpeg_quality(img,min_jpeg_quality=90,max_jpeg_quality=100,seed=(np.random.randint(100),np.random.randint(100)))\n",
    "        img=tf.image.stateless_random_saturation(img,lower=.9,upper=1,seed=(np.random.randint(100),np.random.randint(100)))\n",
    "\n",
    "        data.append(img)\n",
    "\n",
    "    return data"
   ]
  },
  {
   "cell_type": "code",
   "execution_count": null,
   "metadata": {},
   "outputs": [],
   "source": [
    "for file in os.listdir(os.path.join(anchor_pth)):\n",
    "    img_path = os.path.join(anchor_pth,file)\n",
    "    img=cv2.imread(img_path)\n",
    "    aug_img = data_augmentation(img)\n",
    "\n",
    "    for images in aug_img:\n",
    "        cv2.imwrite(os.path.join(anchor_pth,'{}.jpg'.format(uuid.uuid1())),images.numpy())"
   ]
  },
  {
   "cell_type": "code",
   "execution_count": null,
   "metadata": {},
   "outputs": [],
   "source": [
    "for file in os.listdir(os.path.join(positive_pth)):\n",
    "    img_path = os.path.join(positive_pth,file)\n",
    "    img=cv2.imread(img_path)\n",
    "    aug_img = data_augmentation(img)\n",
    "\n",
    "    for images in aug_img:\n",
    "        cv2.imwrite(os.path.join(positive_pth,'{}.jpg'.format(uuid.uuid1())),images.numpy())"
   ]
  },
  {
   "cell_type": "markdown",
   "metadata": {},
   "source": [
    "Load and Preprocess Images"
   ]
  },
  {
   "cell_type": "markdown",
   "metadata": {},
   "source": [
    "Get image directories"
   ]
  },
  {
   "cell_type": "code",
   "execution_count": 12,
   "metadata": {},
   "outputs": [],
   "source": [
    "anchor = tf.data.Dataset.list_files(anchor_pth+'\\*.jpg').take(3500)\n",
    "positive = tf.data.Dataset.list_files(positive_pth+'\\*.jpg').take(3500)\n",
    "negetive = tf.data.Dataset.list_files(negetive_pth+'\\*.jpg').take(3500)\n",
    "\n",
    "#taking 3500 images from each folder"
   ]
  },
  {
   "cell_type": "code",
   "execution_count": 13,
   "metadata": {},
   "outputs": [
    {
     "data": {
      "text/plain": [
       "3500"
      ]
     },
     "execution_count": 13,
     "metadata": {},
     "output_type": "execute_result"
    }
   ],
   "source": [
    "len(anchor)"
   ]
  },
  {
   "cell_type": "code",
   "execution_count": 14,
   "metadata": {},
   "outputs": [],
   "source": [
    "dir_test = anchor.as_numpy_iterator()\n",
    "# creating a pipeline"
   ]
  },
  {
   "cell_type": "code",
   "execution_count": 15,
   "metadata": {},
   "outputs": [
    {
     "data": {
      "text/plain": [
       "b'data\\\\anchor\\\\b9ca1587-8535-11ee-a011-b46bfcf3aa97.jpg'"
      ]
     },
     "execution_count": 15,
     "metadata": {},
     "output_type": "execute_result"
    }
   ],
   "source": [
    "dir_test.next()"
   ]
  },
  {
   "cell_type": "markdown",
   "metadata": {},
   "source": [
    "Preprocessing Scaling and resizing"
   ]
  },
  {
   "cell_type": "code",
   "execution_count": 16,
   "metadata": {},
   "outputs": [],
   "source": [
    "def preprocess(file_path):\n",
    "    byte_img = tf.io.read_file(file_path)   #  Reading the image\n",
    "    img = tf.io.decode_jpeg(byte_img)       #  Loading the image\n",
    "    img = tf.image.resize(img,(100,100))    #  Resizing the image to 100x100x3\n",
    "    img = img / 255.0                       #  scaling image to be between 0 and 1\n",
    "    return img"
   ]
  },
  {
   "cell_type": "code",
   "execution_count": null,
   "metadata": {},
   "outputs": [],
   "source": [
    "preprocess('data\\\\anchor\\\\d4ab51aa-8535-11ee-a184-b46bfcf3aa97.jpg')"
   ]
  },
  {
   "cell_type": "code",
   "execution_count": null,
   "metadata": {},
   "outputs": [],
   "source": [
    "img = preprocess('data\\\\anchor\\\\d4ab51aa-8535-11ee-a184-b46bfcf3aa97.jpg')"
   ]
  },
  {
   "cell_type": "code",
   "execution_count": null,
   "metadata": {},
   "outputs": [],
   "source": [
    "plt.imshow(img)"
   ]
  },
  {
   "cell_type": "code",
   "execution_count": null,
   "metadata": {},
   "outputs": [],
   "source": [
    "img.numpy().max()"
   ]
  },
  {
   "cell_type": "code",
   "execution_count": null,
   "metadata": {},
   "outputs": [],
   "source": [
    "img.numpy().min()"
   ]
  },
  {
   "cell_type": "markdown",
   "metadata": {},
   "source": [
    "Creating Labelled Dataset"
   ]
  },
  {
   "cell_type": "code",
   "execution_count": 17,
   "metadata": {},
   "outputs": [
    {
     "data": {
      "text/plain": [
       "<tf.Tensor: shape=(3500,), dtype=float32, numpy=array([1., 1., 1., ..., 1., 1., 1.], dtype=float32)>"
      ]
     },
     "execution_count": 17,
     "metadata": {},
     "output_type": "execute_result"
    }
   ],
   "source": [
    "#(anchor,positive) => 1,1,1,1,1\n",
    "#(anchor,negetive) => 0,0,0,0,0\n",
    "tf.ones(len(anchor))"
   ]
  },
  {
   "cell_type": "code",
   "execution_count": 18,
   "metadata": {},
   "outputs": [
    {
     "data": {
      "text/plain": [
       "<tf.Tensor: shape=(3500,), dtype=float32, numpy=array([0., 0., 0., ..., 0., 0., 0.], dtype=float32)>"
      ]
     },
     "execution_count": 18,
     "metadata": {},
     "output_type": "execute_result"
    }
   ],
   "source": [
    "tf.zeros(len(anchor))"
   ]
  },
  {
   "cell_type": "code",
   "execution_count": 19,
   "metadata": {},
   "outputs": [
    {
     "data": {
      "text/plain": [
       "3500"
      ]
     },
     "execution_count": 19,
     "metadata": {},
     "output_type": "execute_result"
    }
   ],
   "source": [
    "len(anchor)"
   ]
  },
  {
   "cell_type": "code",
   "execution_count": 20,
   "metadata": {},
   "outputs": [],
   "source": [
    "pos = tf.data.Dataset.zip((anchor,positive,tf.data.Dataset.from_tensor_slices(tf.ones(len(anchor)))))\n",
    "neg = tf.data.Dataset.zip((anchor,negetive,tf.data.Dataset.from_tensor_slices(tf.zeros(len(anchor)))))\n",
    "\n",
    "data = pos.concatenate(neg)"
   ]
  },
  {
   "cell_type": "code",
   "execution_count": 21,
   "metadata": {},
   "outputs": [
    {
     "data": {
      "text/plain": [
       "<ConcatenateDataset element_spec=(TensorSpec(shape=(), dtype=tf.string, name=None), TensorSpec(shape=(), dtype=tf.string, name=None), TensorSpec(shape=(), dtype=tf.float32, name=None))>"
      ]
     },
     "execution_count": 21,
     "metadata": {},
     "output_type": "execute_result"
    }
   ],
   "source": [
    "data"
   ]
  },
  {
   "cell_type": "code",
   "execution_count": 22,
   "metadata": {},
   "outputs": [],
   "source": [
    "sample = data.as_numpy_iterator()"
   ]
  },
  {
   "cell_type": "code",
   "execution_count": 23,
   "metadata": {},
   "outputs": [],
   "source": [
    "example = sample.next()"
   ]
  },
  {
   "cell_type": "markdown",
   "metadata": {},
   "source": [
    "Build Train and test partition"
   ]
  },
  {
   "cell_type": "code",
   "execution_count": 26,
   "metadata": {},
   "outputs": [],
   "source": [
    "def preprocess_twin(input_img,validation_img,label):\n",
    "    return (preprocess(input_img),preprocess(validation_img),label)"
   ]
  },
  {
   "cell_type": "code",
   "execution_count": 27,
   "metadata": {},
   "outputs": [],
   "source": [
    "res = preprocess_twin(*example)       # since data is in zip file the * in example here means to extract the files"
   ]
  },
  {
   "cell_type": "code",
   "execution_count": 28,
   "metadata": {},
   "outputs": [
    {
     "data": {
      "text/plain": [
       "<matplotlib.image.AxesImage at 0x1bcdb1a38e0>"
      ]
     },
     "execution_count": 28,
     "metadata": {},
     "output_type": "execute_result"
    },
    {
     "data": {
      "image/png": "[encoded data removed]",
      "text/plain": [
       "<Figure size 640x480 with 1 Axes>"
      ]
     },
     "metadata": {},
     "output_type": "display_data"
    }
   ],
   "source": [
    "plt.imshow(res[0])"
   ]
  },
  {
   "cell_type": "code",
   "execution_count": 29,
   "metadata": {},
   "outputs": [
    {
     "data": {
      "text/plain": [
       "<matplotlib.image.AxesImage at 0x1bcf4526230>"
      ]
     },
     "execution_count": 29,
     "metadata": {},
     "output_type": "execute_result"
    },
    {
     "data": {
      "image/png": "[encoded data removed]",
      "text/plain": [
       "<Figure size 640x480 with 1 Axes>"
      ]
     },
     "metadata": {},
     "output_type": "display_data"
    }
   ],
   "source": [
    "plt.imshow(res[1])"
   ]
  },
  {
   "cell_type": "code",
   "execution_count": 30,
   "metadata": {},
   "outputs": [
    {
     "data": {
      "text/plain": [
       "1.0"
      ]
     },
     "execution_count": 30,
     "metadata": {},
     "output_type": "execute_result"
    }
   ],
   "source": [
    "res[2]"
   ]
  },
  {
   "cell_type": "code",
   "execution_count": 31,
   "metadata": {},
   "outputs": [],
   "source": [
    "#building dataloader pipeline\n",
    "data = data.map(preprocess_twin)\n",
    "data=data.cache()\n",
    "data=data.shuffle(buffer_size=10000)"
   ]
  },
  {
   "cell_type": "code",
   "execution_count": 32,
   "metadata": {},
   "outputs": [
    {
     "data": {
      "text/plain": [
       "(array([[[0.76960784, 0.76960784, 0.777451  ],\n",
       "         [0.7742647 , 0.77230394, 0.78112745],\n",
       "         [0.782598  , 0.7747549 , 0.7865196 ],\n",
       "         ...,\n",
       "         [0.16446078, 0.16838235, 0.14485294],\n",
       "         [0.17083333, 0.1747549 , 0.14534314],\n",
       "         [0.17941177, 0.18333334, 0.15196079]],\n",
       " \n",
       "        [[0.7737745 , 0.77181375, 0.77867645],\n",
       "         [0.7764706 , 0.76862746, 0.77843136],\n",
       "         [0.7794118 , 0.77156866, 0.78137255],\n",
       "         ...,\n",
       "         [0.17720588, 0.18112744, 0.15759803],\n",
       "         [0.1764706 , 0.18039216, 0.1509804 ],\n",
       "         [0.17941177, 0.18333334, 0.15196079]],\n",
       " \n",
       "        [[0.77181375, 0.7639706 , 0.7678922 ],\n",
       "         [0.7742647 , 0.76642156, 0.7703431 ],\n",
       "         [0.7794118 , 0.77156866, 0.7754902 ],\n",
       "         ...,\n",
       "         [0.16568628, 0.16960785, 0.14607844],\n",
       "         [0.16862746, 0.17254902, 0.14313726],\n",
       "         [0.16568628, 0.16960785, 0.1382353 ]],\n",
       " \n",
       "        ...,\n",
       " \n",
       "        [[0.46666667, 0.39215687, 0.3647059 ],\n",
       "         [0.4387255 , 0.36617646, 0.3377451 ],\n",
       "         [0.38455883, 0.32671568, 0.29240197],\n",
       "         ...,\n",
       "         [0.15392157, 0.16176471, 0.15784314],\n",
       "         [0.17132352, 0.17916666, 0.17524509],\n",
       "         [0.20367648, 0.20563726, 0.20465687]],\n",
       " \n",
       "        [[0.46568626, 0.39117646, 0.36372548],\n",
       "         [0.43088236, 0.3627451 , 0.33210784],\n",
       "         [0.36642158, 0.3019608 , 0.26985294],\n",
       "         ...,\n",
       "         [0.14730392, 0.15955882, 0.15563725],\n",
       "         [0.15857843, 0.16642156, 0.1625    ],\n",
       "         [0.16004902, 0.16789216, 0.16397059]],\n",
       " \n",
       "        [[0.45269608, 0.3781863 , 0.3507353 ],\n",
       "         [0.4345588 , 0.36789215, 0.3365196 ],\n",
       "         [0.3882353 , 0.32156864, 0.2901961 ],\n",
       "         ...,\n",
       "         [0.13897058, 0.15269607, 0.1487745 ],\n",
       "         [0.15759803, 0.16544117, 0.1615196 ],\n",
       "         [0.16176471, 0.16960785, 0.16568628]]], dtype=float32),\n",
       " array([[[0.44607842, 0.12843138, 0.15588236],\n",
       "         [0.4745098 , 0.15686275, 0.18039216],\n",
       "         [0.49264705, 0.18088235, 0.20147058],\n",
       "         ...,\n",
       "         [0.9487745 , 0.70612746, 0.6156863 ],\n",
       "         [0.9629902 , 0.72769606, 0.6335784 ],\n",
       "         [0.79632354, 0.5622549 , 0.47818628]],\n",
       " \n",
       "        [[0.42941177, 0.11078431, 0.13235295],\n",
       "         [0.45294118, 0.13627452, 0.15686275],\n",
       "         [0.48088235, 0.16862746, 0.18259804],\n",
       "         ...,\n",
       "         [0.95441175, 0.70392156, 0.6102941 ],\n",
       "         [0.9794118 , 0.73382354, 0.64460784],\n",
       "         [0.84705883, 0.6009804 , 0.5117647 ]],\n",
       " \n",
       "        [[0.4257353 , 0.10416666, 0.11397059],\n",
       "         [0.45147058, 0.13333334, 0.14142157],\n",
       "         [0.47034314, 0.15661764, 0.16691177],\n",
       "         ...,\n",
       "         [0.94754905, 0.7080882 , 0.6159314 ],\n",
       "         [0.98946077, 0.74558824, 0.65539217],\n",
       "         [0.8985294 , 0.652451  , 0.5632353 ]],\n",
       " \n",
       "        ...,\n",
       " \n",
       "        [[0.16176471, 0.13039216, 0.11960784],\n",
       "         [0.15833333, 0.12696078, 0.11617647],\n",
       "         [0.0747549 , 0.04338235, 0.03259804],\n",
       "         ...,\n",
       "         [0.2017157 , 0.17034313, 0.16102941],\n",
       "         [0.26102942, 0.22965686, 0.21887255],\n",
       "         [0.33063725, 0.29142156, 0.28455883]],\n",
       " \n",
       "        [[0.11666667, 0.08210784, 0.08529412],\n",
       "         [0.13333334, 0.09877451, 0.10196079],\n",
       "         [0.09583333, 0.06078431, 0.06838235],\n",
       "         ...,\n",
       "         [0.12916666, 0.09779412, 0.0870098 ],\n",
       "         [0.11911765, 0.0877451 , 0.07990196],\n",
       "         [0.1747549 , 0.1384804 , 0.14044118]],\n",
       " \n",
       "        [[0.08455882, 0.04926471, 0.06102941],\n",
       "         [0.10147059, 0.06617647, 0.07794118],\n",
       "         [0.08676471, 0.05147059, 0.0632353 ],\n",
       "         ...,\n",
       "         [0.06470589, 0.04509804, 0.03039216],\n",
       "         [0.06936274, 0.0379902 , 0.0379902 ],\n",
       "         [0.07450981, 0.03921569, 0.04313726]]], dtype=float32),\n",
       " 0.0)"
      ]
     },
     "execution_count": 32,
     "metadata": {},
     "output_type": "execute_result"
    }
   ],
   "source": [
    "samples = data.as_numpy_iterator()\n",
    "samples.next()"
   ]
  },
  {
   "cell_type": "code",
   "execution_count": 33,
   "metadata": {},
   "outputs": [],
   "source": [
    "samp = samples.next()"
   ]
  },
  {
   "cell_type": "code",
   "execution_count": 34,
   "metadata": {},
   "outputs": [
    {
     "data": {
      "text/plain": [
       "<matplotlib.image.AxesImage at 0x1bcfc1462c0>"
      ]
     },
     "execution_count": 34,
     "metadata": {},
     "output_type": "execute_result"
    },
    {
     "data": {
      "image/png": "[encoded data removed]",
      "text/plain": [
       "<Figure size 640x480 with 1 Axes>"
      ]
     },
     "metadata": {},
     "output_type": "display_data"
    }
   ],
   "source": [
    "plt.imshow(samp[1])"
   ]
  },
  {
   "cell_type": "code",
   "execution_count": 35,
   "metadata": {},
   "outputs": [
    {
     "data": {
      "text/plain": [
       "<matplotlib.image.AxesImage at 0x1bcf9f78be0>"
      ]
     },
     "execution_count": 35,
     "metadata": {},
     "output_type": "execute_result"
    },
    {
     "data": {
      "image/png": "[encoded data removed]",
      "text/plain": [
       "<Figure size 640x480 with 1 Axes>"
      ]
     },
     "metadata": {},
     "output_type": "display_data"
    }
   ],
   "source": [
    "plt.imshow(samp[0])"
   ]
  },
  {
   "cell_type": "code",
   "execution_count": 36,
   "metadata": {},
   "outputs": [
    {
     "data": {
      "text/plain": [
       "1.0"
      ]
     },
     "execution_count": 36,
     "metadata": {},
     "output_type": "execute_result"
    }
   ],
   "source": [
    "samp[2]"
   ]
  },
  {
   "cell_type": "code",
   "execution_count": 37,
   "metadata": {},
   "outputs": [
    {
     "data": {
      "text/plain": [
       "4900"
      ]
     },
     "execution_count": 37,
     "metadata": {},
     "output_type": "execute_result"
    }
   ],
   "source": [
    "round(len(data)*.7)"
   ]
  },
  {
   "cell_type": "code",
   "execution_count": 38,
   "metadata": {},
   "outputs": [],
   "source": [
    "#creating training partition\n",
    "train_data = data.take(round(len(data)*.7))     # taking 70% data as training dataset and then rounding off it \n",
    "train_data = train_data.batch(16)               # takes batches of 16 images\n",
    "train_data = train_data.prefetch(8)             # prefetch to increase the speed read more"
   ]
  },
  {
   "cell_type": "code",
   "execution_count": 39,
   "metadata": {},
   "outputs": [],
   "source": [
    "train_samples = train_data.as_numpy_iterator()"
   ]
  },
  {
   "cell_type": "code",
   "execution_count": 40,
   "metadata": {},
   "outputs": [],
   "source": [
    "train_sample = train_samples.next()"
   ]
  },
  {
   "cell_type": "code",
   "execution_count": 41,
   "metadata": {},
   "outputs": [
    {
     "data": {
      "text/plain": [
       "(array([[[[0.71568626, 0.71568626, 0.7078431 ],\n",
       "          [0.7080882 , 0.72843134, 0.7127451 ],\n",
       "          [0.7       , 0.7323529 , 0.71960783],\n",
       "          ...,\n",
       "          [0.7235294 , 0.7352941 , 0.7       ],\n",
       "          [0.7294118 , 0.7411765 , 0.7058824 ],\n",
       "          [0.7294118 , 0.7411765 , 0.7058824 ]],\n",
       " \n",
       "         [[0.7230392 , 0.7294118 , 0.71838236],\n",
       "          [0.7117647 , 0.7323529 , 0.71666664],\n",
       "          [0.7007353 , 0.73308825, 0.7203431 ],\n",
       "          ...,\n",
       "          [0.73039216, 0.7343137 , 0.7029412 ],\n",
       "          [0.72745097, 0.73137254, 0.7       ],\n",
       "          [0.7294118 , 0.73333335, 0.7019608 ]],\n",
       " \n",
       "         [[0.7291667 , 0.7370098 , 0.7252451 ],\n",
       "          [0.7120098 , 0.73259807, 0.7169118 ],\n",
       "          [0.7083333 , 0.73406863, 0.7235294 ],\n",
       "          ...,\n",
       "          [0.73137254, 0.7352941 , 0.70980394],\n",
       "          [0.72745097, 0.73137254, 0.7058824 ],\n",
       "          [0.72745097, 0.73137254, 0.7058824 ]],\n",
       " \n",
       "         ...,\n",
       " \n",
       "         [[0.5882353 , 0.61740196, 0.57598037],\n",
       "          [0.51617646, 0.5357843 , 0.4897059 ],\n",
       "          [0.40661764, 0.41151962, 0.35759804],\n",
       "          ...,\n",
       "          [0.5421569 , 0.53137255, 0.49313724],\n",
       "          [0.5348039 , 0.5328431 , 0.49166667],\n",
       "          [0.5411765 , 0.5382353 , 0.5       ]],\n",
       " \n",
       "         [[0.5735294 , 0.59313726, 0.56642157],\n",
       "          [0.5605392 , 0.5713235 , 0.53406864],\n",
       "          [0.38063726, 0.38259804, 0.3365196 ],\n",
       "          ...,\n",
       "          [0.51348037, 0.4982843 , 0.45490196],\n",
       "          [0.4990196 , 0.4852941 , 0.44117647],\n",
       "          [0.51666665, 0.5019608 , 0.46078432]],\n",
       " \n",
       "         [[0.5656863 , 0.5852941 , 0.5617647 ],\n",
       "          [0.55784315, 0.56764704, 0.5392157 ],\n",
       "          [0.4509804 , 0.45269608, 0.4132353 ],\n",
       "          ...,\n",
       "          [0.51862746, 0.49509802, 0.4480392 ],\n",
       "          [0.5176471 , 0.49411765, 0.44705883],\n",
       "          [0.5294118 , 0.5019608 , 0.4627451 ]]],\n",
       " \n",
       " \n",
       "        [[[0.7316176 , 0.7747549 , 0.7198529 ],\n",
       "          [0.7529412 , 0.78137255, 0.74215686],\n",
       "          [0.7556372 , 0.7752451 , 0.7507353 ],\n",
       "          ...,\n",
       "          [0.7629902 , 0.78063726, 0.7531863 ],\n",
       "          [0.76887256, 0.7747549 , 0.7443628 ],\n",
       "          [0.76862746, 0.76862746, 0.7372549 ]],\n",
       " \n",
       "         [[0.7352941 , 0.7745098 , 0.73333335],\n",
       "          [0.7357843 , 0.76348037, 0.7267157 ],\n",
       "          [0.7404412 , 0.76004905, 0.7357843 ],\n",
       "          ...,\n",
       "          [0.7595588 , 0.7772059 , 0.7497549 ],\n",
       "          [0.77156866, 0.777451  , 0.7470588 ],\n",
       "          [0.7754902 , 0.7764706 , 0.74509805]],\n",
       " \n",
       "         [[0.7411765 , 0.78039217, 0.7480392 ],\n",
       "          [0.74240196, 0.76936275, 0.7414216 ],\n",
       "          [0.73333335, 0.7588235 , 0.7323529 ],\n",
       "          ...,\n",
       "          [0.7558824 , 0.7735294 , 0.74607843],\n",
       "          [0.7632353 , 0.7735294 , 0.7409314 ],\n",
       "          [0.76862746, 0.77254903, 0.7411765 ]],\n",
       " \n",
       "         ...,\n",
       " \n",
       "         [[0.6965686 , 0.7416667 , 0.70343137],\n",
       "          [0.63553923, 0.68063724, 0.6433824 ],\n",
       "          [0.45906863, 0.50416666, 0.4659314 ],\n",
       "          ...,\n",
       "          [0.60833335, 0.6142157 , 0.5661765 ],\n",
       "          [0.6188725 , 0.6188725 , 0.57965684],\n",
       "          [0.6333333 , 0.6215686 , 0.5862745 ]],\n",
       " \n",
       "         [[0.7257353 , 0.7561275 , 0.7267157 ],\n",
       "          [0.6852941 , 0.7245098 , 0.6931372 ],\n",
       "          [0.6240196 , 0.6632353 , 0.62892157],\n",
       "          ...,\n",
       "          [0.5022059 , 0.50808823, 0.45857844],\n",
       "          [0.527451  , 0.5208333 , 0.48235294],\n",
       "          [0.5245098 , 0.5127451 , 0.47745097]],\n",
       " \n",
       "         [[0.64191175, 0.6693627 , 0.64191175],\n",
       "          [0.6377451 , 0.6642157 , 0.64754903],\n",
       "          [0.62034315, 0.65955883, 0.6259804 ],\n",
       "          ...,\n",
       "          [0.54901963, 0.54901963, 0.5019608 ],\n",
       "          [0.5617647 , 0.55588233, 0.5088235 ],\n",
       "          [0.5647059 , 0.5529412 , 0.5176471 ]]],\n",
       " \n",
       " \n",
       "        [[[0.88161767, 0.8659314 , 0.86985296],\n",
       "          [0.88848037, 0.8620098 , 0.87083334],\n",
       "          [0.8990196 , 0.85784316, 0.872549  ],\n",
       "          ...,\n",
       "          [0.8860294 , 0.86838233, 0.87328434],\n",
       "          [0.8901961 , 0.8666667 , 0.8686274 ],\n",
       "          [0.89117646, 0.86764705, 0.86764705]],\n",
       " \n",
       "         [[0.8897059 , 0.8661765 , 0.8740196 ],\n",
       "          [0.8897059 , 0.8610294 , 0.87058824],\n",
       "          [0.8953431 , 0.8541667 , 0.8688725 ],\n",
       "          ...,\n",
       "          [0.88529414, 0.8617647 , 0.86960787],\n",
       "          [0.88529414, 0.8617647 , 0.86960787],\n",
       "          [0.88529414, 0.8637255 , 0.87058824]],\n",
       " \n",
       "         [[0.8845588 , 0.8610294 , 0.8688725 ],\n",
       "          [0.89191175, 0.8566176 , 0.86838233],\n",
       "          [0.88848037, 0.8473039 , 0.8620098 ],\n",
       "          ...,\n",
       "          [0.88235295, 0.85882354, 0.8666667 ],\n",
       "          [0.88848037, 0.86495095, 0.8727941 ],\n",
       "          [0.88039213, 0.86470586, 0.8686274 ]],\n",
       " \n",
       "         ...,\n",
       " \n",
       "         [[0.5985294 , 0.5397059 , 0.5259804 ],\n",
       "          [0.60637254, 0.5632353 , 0.54558825],\n",
       "          [0.5710784 , 0.53382355, 0.5132353 ],\n",
       "          ...,\n",
       "          [0.26004902, 0.23627451, 0.19607843],\n",
       "          [0.24828431, 0.24558823, 0.21102941],\n",
       "          [0.30980393, 0.3137255 , 0.28235295]],\n",
       " \n",
       "         [[0.55269605, 0.49607843, 0.46470588],\n",
       "          [0.5394608 , 0.48897058, 0.4595588 ],\n",
       "          [0.5142157 , 0.47181374, 0.44019607],\n",
       "          ...,\n",
       "          [0.25637254, 0.24191177, 0.1992647 ],\n",
       "          [0.29828432, 0.29558823, 0.26102942],\n",
       "          [0.4644608 , 0.46838236, 0.44289216]],\n",
       " \n",
       "         [[0.5514706 , 0.49142158, 0.45      ],\n",
       "          [0.5441176 , 0.48921567, 0.4480392 ],\n",
       "          [0.54264706, 0.49142158, 0.45906863],\n",
       "          ...,\n",
       "          [0.2531863 , 0.24191177, 0.20906863],\n",
       "          [0.33504903, 0.33112746, 0.3122549 ],\n",
       "          [0.49411765, 0.4970588 , 0.48039216]]],\n",
       " \n",
       " \n",
       "        ...,\n",
       " \n",
       " \n",
       "        [[[0.71887255, 0.6718137 , 0.67965686],\n",
       "          [0.7176471 , 0.6696078 , 0.6882353 ],\n",
       "          [0.71936274, 0.6742647 , 0.6987745 ],\n",
       "          ...,\n",
       "          [0.627451  , 0.59436274, 0.5995098 ],\n",
       "          [0.44705883, 0.43088236, 0.43504903],\n",
       "          [0.27745098, 0.27107844, 0.2742647 ]],\n",
       " \n",
       "         [[0.7264706 , 0.66764706, 0.67941177],\n",
       "          [0.7240196 , 0.6747549 , 0.6852941 ],\n",
       "          [0.7203431 , 0.6747549 , 0.6970588 ],\n",
       "          ...,\n",
       "          [0.35465688, 0.34240195, 0.3502451 ],\n",
       "          [0.24436274, 0.24485295, 0.25490198],\n",
       "          [0.23333333, 0.24191177, 0.25759804]],\n",
       " \n",
       "         [[0.71642154, 0.6605392 , 0.6634804 ],\n",
       "          [0.71593136, 0.6578431 , 0.67132354],\n",
       "          [0.71911764, 0.6691176 , 0.6877451 ],\n",
       "          ...,\n",
       "          [0.25196078, 0.2517157 , 0.25588235],\n",
       "          [0.2009804 , 0.21372549, 0.225     ],\n",
       "          [0.2007353 , 0.22254902, 0.2375    ]],\n",
       " \n",
       "         ...,\n",
       " \n",
       "         [[0.25955883, 0.21740197, 0.19093138],\n",
       "          [0.25833333, 0.21519607, 0.19313726],\n",
       "          [0.25612745, 0.2129902 , 0.19534314],\n",
       "          ...,\n",
       "          [0.27941176, 0.28455883, 0.28235295],\n",
       "          [0.28799018, 0.2872549 , 0.27941176],\n",
       "          [0.2995098 , 0.3009804 , 0.29436275]],\n",
       " \n",
       "         [[0.2531863 , 0.21397059, 0.17867647],\n",
       "          [0.25686276, 0.21593137, 0.18578431],\n",
       "          [0.2634804 , 0.22034314, 0.19681373],\n",
       "          ...,\n",
       "          [0.2870098 , 0.28995097, 0.30367646],\n",
       "          [0.29828432, 0.29093137, 0.3004902 ],\n",
       "          [0.29730392, 0.29142156, 0.3022059 ]],\n",
       " \n",
       "         [[0.2617647 , 0.22254902, 0.18333334],\n",
       "          [0.25196078, 0.21176471, 0.17941177],\n",
       "          [0.24436274, 0.20122549, 0.17769608],\n",
       "          ...,\n",
       "          [0.20294118, 0.20392157, 0.21862745],\n",
       "          [0.2769608 , 0.2632353 , 0.26911765],\n",
       "          [0.28529412, 0.27745098, 0.28921568]]],\n",
       " \n",
       " \n",
       "        [[[0.7205882 , 0.7205882 , 0.7127451 ],\n",
       "          [0.717402  , 0.7259804 , 0.7120098 ],\n",
       "          [0.6992647 , 0.7203431 , 0.6960784 ],\n",
       "          ...,\n",
       "          [0.24387255, 0.2737745 , 0.23137255],\n",
       "          [0.23946078, 0.2767157 , 0.23357843],\n",
       "          [0.24313726, 0.28235295, 0.23921569]],\n",
       " \n",
       "         [[0.73039216, 0.72107846, 0.7085784 ],\n",
       "          [0.722549  , 0.7245098 , 0.70490193],\n",
       "          [0.71568626, 0.7247549 , 0.6997549 ],\n",
       "          ...,\n",
       "          [0.2367647 , 0.27328432, 0.22058824],\n",
       "          [0.23848039, 0.28235295, 0.22745098],\n",
       "          [0.24019608, 0.28431374, 0.22941177]],\n",
       " \n",
       "         [[0.7375    , 0.71568626, 0.7017157 ],\n",
       "          [0.73259807, 0.72083336, 0.7012255 ],\n",
       "          [0.7262255 , 0.7223039 , 0.7026961 ],\n",
       "          ...,\n",
       "          [0.23848039, 0.28235295, 0.22745098],\n",
       "          [0.24166666, 0.2884804 , 0.23357843],\n",
       "          [0.24705882, 0.29411766, 0.23921569]],\n",
       " \n",
       "         ...,\n",
       " \n",
       "         [[0.25686276, 0.28431374, 0.25686276],\n",
       "          [0.24436274, 0.26568627, 0.24338235],\n",
       "          [0.24460784, 0.26446077, 0.24877451],\n",
       "          ...,\n",
       "          [0.2990196 , 0.30686274, 0.25196078],\n",
       "          [0.29534313, 0.30318627, 0.24828431],\n",
       "          [0.2901961 , 0.29411766, 0.23921569]],\n",
       " \n",
       "         [[0.24313726, 0.27058825, 0.24313726],\n",
       "          [0.24289216, 0.26715687, 0.2492647 ],\n",
       "          [0.2379902 , 0.26078433, 0.24509804],\n",
       "          ...,\n",
       "          [0.2990196 , 0.30686274, 0.25196078],\n",
       "          [0.29681373, 0.30465686, 0.2497549 ],\n",
       "          [0.29607844, 0.3       , 0.24509804]],\n",
       " \n",
       "         [[0.22843137, 0.2637255 , 0.24411765],\n",
       "          [0.22843137, 0.26078433, 0.24215686],\n",
       "          [0.2372549 , 0.26078433, 0.2509804 ],\n",
       "          ...,\n",
       "          [0.2872549 , 0.29509804, 0.24019608],\n",
       "          [0.29215688, 0.3       , 0.24509804],\n",
       "          [0.29803923, 0.3019608 , 0.24705882]]],\n",
       " \n",
       " \n",
       "        [[[0.7879902 , 0.77230394, 0.7683824 ],\n",
       "          [0.7860294 , 0.78210783, 0.7742647 ],\n",
       "          [0.77916664, 0.7752451 , 0.76740193],\n",
       "          ...,\n",
       "          [0.77843136, 0.7705882 , 0.78039217],\n",
       "          [0.7732843 , 0.7654412 , 0.76936275],\n",
       "          [0.7676471 , 0.75980395, 0.7637255 ]],\n",
       " \n",
       "         [[0.7801471 , 0.7752451 , 0.7703431 ],\n",
       "          [0.7772059 , 0.77230394, 0.76740193],\n",
       "          [0.7794118 , 0.7745098 , 0.76960784],\n",
       "          ...,\n",
       "          [0.7794118 , 0.77156866, 0.78137255],\n",
       "          [0.7764706 , 0.76862746, 0.77254903],\n",
       "          [0.7794118 , 0.77156866, 0.7754902 ]],\n",
       " \n",
       "         [[0.7764706 , 0.76862746, 0.77254903],\n",
       "          [0.7762255 , 0.7683824 , 0.77230394],\n",
       "          [0.7732843 , 0.7654412 , 0.76936275],\n",
       "          ...,\n",
       "          [0.7794118 , 0.77156866, 0.7769608 ],\n",
       "          [0.7764706 , 0.76862746, 0.77254903],\n",
       "          [0.78039217, 0.77254903, 0.7764706 ]],\n",
       " \n",
       "         ...,\n",
       " \n",
       "         [[0.6747549 , 0.6512255 , 0.65906864],\n",
       "          [0.6693627 , 0.6477941 , 0.6546569 ],\n",
       "          [0.66887254, 0.65318626, 0.65710783],\n",
       "          ...,\n",
       "          [0.46911764, 0.41715688, 0.38186276],\n",
       "          [0.46053922, 0.40784314, 0.3762255 ],\n",
       "          [0.4480392 , 0.39436275, 0.3740196 ]],\n",
       " \n",
       "         [[0.6551471 , 0.63161767, 0.6394608 ],\n",
       "          [0.6502451 , 0.6286765 , 0.63553923],\n",
       "          [0.63186276, 0.62058824, 0.6245098 ],\n",
       "          ...,\n",
       "          [0.4642157 , 0.40931374, 0.3740196 ],\n",
       "          [0.46691176, 0.40465686, 0.37303922],\n",
       "          [0.45784312, 0.39019608, 0.3735294 ]],\n",
       " \n",
       "         [[0.639951  , 0.6164216 , 0.6242647 ],\n",
       "          [0.65367645, 0.63210785, 0.6389706 ],\n",
       "          [0.6230392 , 0.6132353 , 0.61715686],\n",
       "          ...,\n",
       "          [0.46568626, 0.4137255 , 0.37843138],\n",
       "          [0.4627451 , 0.40784314, 0.37254903],\n",
       "          [0.4372549 , 0.37843138, 0.35882354]]]], dtype=float32),\n",
       " array([[[[6.4950979e-01, 6.9999999e-01, 7.4730390e-01],\n",
       "          [6.6838235e-01, 7.0465684e-01, 7.3700982e-01],\n",
       "          [4.0808824e-01, 4.2769608e-01, 4.3259802e-01],\n",
       "          ...,\n",
       "          [4.9313724e-01, 5.4656863e-01, 5.7867646e-01],\n",
       "          [6.9558823e-01, 7.6225489e-01, 8.0000001e-01],\n",
       "          [3.1813726e-01, 3.6911765e-01, 4.0367648e-01]],\n",
       " \n",
       "         [[5.7181370e-01, 6.1004901e-01, 6.4191175e-01],\n",
       "          [4.8750001e-01, 5.2132350e-01, 5.3504902e-01],\n",
       "          [4.5367646e-01, 4.7205883e-01, 4.6642157e-01],\n",
       "          ...,\n",
       "          [2.1666667e-01, 2.6200980e-01, 2.7573529e-01],\n",
       "          [3.4534314e-01, 3.9436275e-01, 4.1593137e-01],\n",
       "          [1.7058824e-01, 2.0563726e-01, 2.2083333e-01]],\n",
       " \n",
       "         [[5.7843137e-01, 6.1470586e-01, 6.1372548e-01],\n",
       "          [4.2279410e-01, 4.4779411e-01, 4.3480393e-01],\n",
       "          [4.1249999e-01, 4.2573529e-01, 4.0637255e-01],\n",
       "          ...,\n",
       "          [2.2303921e-01, 2.6004902e-01, 2.5906864e-01],\n",
       "          [2.0661765e-01, 2.4166666e-01, 2.5171569e-01],\n",
       "          [1.9215687e-01, 2.0882353e-01, 2.1911764e-01]],\n",
       " \n",
       "         ...,\n",
       " \n",
       "         [[4.9044117e-01, 4.2083332e-01, 3.6985293e-01],\n",
       "          [4.3897060e-01, 3.6936274e-01, 3.2426471e-01],\n",
       "          [4.0882352e-01, 3.3235294e-01, 2.9019609e-01],\n",
       "          ...,\n",
       "          [2.0073530e-01, 2.0661765e-01, 2.2328432e-01],\n",
       "          [2.2083333e-01, 2.1960784e-01, 2.3676470e-01],\n",
       "          [2.5343138e-01, 2.4681373e-01, 2.5833333e-01]],\n",
       " \n",
       "         [[4.5245099e-01, 4.0735295e-01, 3.8186276e-01],\n",
       "          [4.2107844e-01, 3.6911765e-01, 3.4117648e-01],\n",
       "          [4.2303923e-01, 3.5857844e-01, 3.2450980e-01],\n",
       "          ...,\n",
       "          [1.6887255e-01, 1.8799020e-01, 2.0539215e-01],\n",
       "          [1.5735294e-01, 1.7500000e-01, 1.9166666e-01],\n",
       "          [2.2377451e-01, 2.4240196e-01, 2.5416666e-01]],\n",
       " \n",
       "         [[6.1691177e-01, 5.8455884e-01, 5.8799022e-01],\n",
       "          [4.6593139e-01, 4.2720589e-01, 4.1715688e-01],\n",
       "          [4.1691175e-01, 3.6053923e-01, 3.3406863e-01],\n",
       "          ...,\n",
       "          [1.4264706e-01, 1.5318628e-01, 1.6617647e-01],\n",
       "          [1.5612745e-01, 1.6225490e-01, 1.7377451e-01],\n",
       "          [2.0000000e-01, 2.1568628e-01, 2.1960784e-01]]],\n",
       " \n",
       " \n",
       "        [[[7.3921567e-01, 7.2352940e-01, 7.1960783e-01],\n",
       "          [7.4436277e-01, 7.2867650e-01, 7.2475493e-01],\n",
       "          [7.2916669e-01, 7.2230393e-01, 7.1544117e-01],\n",
       "          ...,\n",
       "          [7.2058821e-01, 7.1666664e-01, 7.0098037e-01],\n",
       "          [7.1911764e-01, 7.2107846e-01, 6.9950980e-01],\n",
       "          [7.1372551e-01, 7.1764708e-01, 6.9411767e-01]],\n",
       " \n",
       "         [[7.2941178e-01, 7.2549021e-01, 7.1764708e-01],\n",
       "          [7.3039216e-01, 7.2745097e-01, 7.1960783e-01],\n",
       "          [7.2622550e-01, 7.2328430e-01, 7.1544117e-01],\n",
       "          ...,\n",
       "          [7.1764708e-01, 7.1372551e-01, 6.9950980e-01],\n",
       "          [7.2745097e-01, 7.2794116e-01, 7.0784312e-01],\n",
       "          [7.3333335e-01, 7.3725492e-01, 7.1372551e-01]],\n",
       " \n",
       "         [[7.2475493e-01, 7.2377449e-01, 7.1593136e-01],\n",
       "          [7.1151960e-01, 7.1151960e-01, 7.0367646e-01],\n",
       "          [7.2696078e-01, 7.3137254e-01, 7.2132355e-01],\n",
       "          ...,\n",
       "          [7.3333335e-01, 7.2941178e-01, 7.1960783e-01],\n",
       "          [7.2745097e-01, 7.2352940e-01, 7.0784312e-01],\n",
       "          [7.2450978e-01, 7.2254902e-01, 7.0196080e-01]],\n",
       " \n",
       "         ...,\n",
       " \n",
       "         [[6.1274511e-01, 6.1078429e-01, 5.9411764e-01],\n",
       "          [6.1642158e-01, 6.1446077e-01, 5.9779412e-01],\n",
       "          [6.0882354e-01, 6.1127448e-01, 5.9240198e-01],\n",
       "          ...,\n",
       "          [5.0710785e-01, 4.7181374e-01, 4.3651959e-01],\n",
       "          [5.0955880e-01, 4.7426471e-01, 4.3897060e-01],\n",
       "          [5.2058822e-01, 4.8529410e-01, 4.4999999e-01]],\n",
       " \n",
       "         [[5.9313726e-01, 5.9705883e-01, 5.7745099e-01],\n",
       "          [5.9534311e-01, 5.9926468e-01, 5.7965684e-01],\n",
       "          [5.8848041e-01, 5.9240198e-01, 5.7279414e-01],\n",
       "          ...,\n",
       "          [5.1004905e-01, 4.7475490e-01, 4.3946078e-01],\n",
       "          [5.1715684e-01, 4.8186275e-01, 4.4656864e-01],\n",
       "          [5.1764709e-01, 4.8235294e-01, 4.4705883e-01]],\n",
       " \n",
       "         [[5.9509802e-01, 5.9901959e-01, 5.7941175e-01],\n",
       "          [5.9705883e-01, 6.0098040e-01, 5.8137256e-01],\n",
       "          [6.0000002e-01, 6.0392159e-01, 5.8431375e-01],\n",
       "          ...,\n",
       "          [5.0686276e-01, 4.6764705e-01, 4.3235293e-01],\n",
       "          [5.1960784e-01, 4.8039216e-01, 4.4509804e-01],\n",
       "          [5.2549022e-01, 4.8627451e-01, 4.5098040e-01]]],\n",
       " \n",
       " \n",
       "        [[[3.9215689e-03, 3.9215689e-03, 3.9215689e-03],\n",
       "          [9.8039221e-04, 9.8039221e-04, 9.8039221e-04],\n",
       "          [9.8039221e-04, 9.8039221e-04, 9.8039221e-04],\n",
       "          ...,\n",
       "          [1.7156863e-03, 6.6176471e-03, 4.9019610e-03],\n",
       "          [1.4705883e-03, 8.3333338e-03, 7.3529413e-04],\n",
       "          [1.2254902e-03, 6.1274511e-03, 2.4509805e-04]],\n",
       " \n",
       "         [[4.2156864e-02, 4.3137256e-02, 3.8235296e-02],\n",
       "          [4.1176472e-02, 4.2156864e-02, 3.7254903e-02],\n",
       "          [4.0196080e-02, 4.1176472e-02, 3.6274511e-02],\n",
       "          ...,\n",
       "          [6.9607846e-02, 7.5490199e-02, 6.3725494e-02],\n",
       "          [6.6911764e-02, 7.8676470e-02, 5.4656863e-02],\n",
       "          [2.7450981e-02, 3.7500001e-02, 1.6666668e-02]],\n",
       " \n",
       "         [[5.5980390e-01, 5.6372547e-01, 5.4117650e-01],\n",
       "          [5.5294120e-01, 5.5686277e-01, 5.3431374e-01],\n",
       "          [5.4313725e-01, 5.4705882e-01, 5.2450979e-01],\n",
       "          ...,\n",
       "          [9.3210787e-01, 9.4681370e-01, 8.9485294e-01],\n",
       "          [8.5024512e-01, 8.6372548e-01, 8.0147058e-01],\n",
       "          [3.8921568e-01, 4.0024510e-01, 3.2990196e-01]],\n",
       " \n",
       "         ...,\n",
       " \n",
       "         [[2.0392157e-01, 2.6666668e-01, 2.6666668e-01],\n",
       "          [1.9901961e-01, 2.6176471e-01, 2.6176471e-01],\n",
       "          [1.9509804e-01, 2.5784314e-01, 2.5784314e-01],\n",
       "          ...,\n",
       "          [8.2598038e-02, 1.4534314e-01, 1.4142157e-01],\n",
       "          [1.5563725e-01, 2.1250001e-01, 2.1151961e-01],\n",
       "          [1.9068627e-01, 2.3774509e-01, 2.3774509e-01]],\n",
       " \n",
       "         [[1.6397059e-01, 2.2671568e-01, 2.2671568e-01],\n",
       "          [1.8186274e-01, 2.4460784e-01, 2.4460784e-01],\n",
       "          [1.9362745e-01, 2.5637254e-01, 2.5637254e-01],\n",
       "          ...,\n",
       "          [1.1421569e-01, 1.7696078e-01, 1.7303921e-01],\n",
       "          [1.7230392e-01, 2.2916667e-01, 2.2818628e-01],\n",
       "          [1.6617647e-01, 2.1323529e-01, 2.1323529e-01]],\n",
       " \n",
       "         [[9.7058825e-02, 1.5980393e-01, 1.5980393e-01],\n",
       "          [1.3725491e-01, 2.0000000e-01, 2.0000000e-01],\n",
       "          [1.7549020e-01, 2.3823529e-01, 2.3823529e-01],\n",
       "          ...,\n",
       "          [1.3676471e-01, 1.9950980e-01, 1.9558823e-01],\n",
       "          [1.5416667e-01, 2.1102941e-01, 2.1004902e-01],\n",
       "          [1.4803922e-01, 2.0294118e-01, 2.0294118e-01]]],\n",
       " \n",
       " \n",
       "        ...,\n",
       " \n",
       " \n",
       "        [[[0.0000000e+00, 0.0000000e+00, 0.0000000e+00],\n",
       "          [0.0000000e+00, 0.0000000e+00, 0.0000000e+00],\n",
       "          [0.0000000e+00, 0.0000000e+00, 0.0000000e+00],\n",
       "          ...,\n",
       "          [0.0000000e+00, 0.0000000e+00, 0.0000000e+00],\n",
       "          [0.0000000e+00, 0.0000000e+00, 0.0000000e+00],\n",
       "          [0.0000000e+00, 0.0000000e+00, 0.0000000e+00]],\n",
       " \n",
       "         [[0.0000000e+00, 0.0000000e+00, 0.0000000e+00],\n",
       "          [0.0000000e+00, 0.0000000e+00, 0.0000000e+00],\n",
       "          [0.0000000e+00, 0.0000000e+00, 0.0000000e+00],\n",
       "          ...,\n",
       "          [0.0000000e+00, 0.0000000e+00, 0.0000000e+00],\n",
       "          [0.0000000e+00, 0.0000000e+00, 0.0000000e+00],\n",
       "          [0.0000000e+00, 0.0000000e+00, 0.0000000e+00]],\n",
       " \n",
       "         [[0.0000000e+00, 0.0000000e+00, 0.0000000e+00],\n",
       "          [0.0000000e+00, 0.0000000e+00, 0.0000000e+00],\n",
       "          [0.0000000e+00, 0.0000000e+00, 0.0000000e+00],\n",
       "          ...,\n",
       "          [0.0000000e+00, 0.0000000e+00, 0.0000000e+00],\n",
       "          [0.0000000e+00, 0.0000000e+00, 0.0000000e+00],\n",
       "          [0.0000000e+00, 0.0000000e+00, 0.0000000e+00]],\n",
       " \n",
       "         ...,\n",
       " \n",
       "         [[6.3627452e-01, 2.2377451e-01, 8.3333338e-03],\n",
       "          [6.0367650e-01, 2.2450981e-01, 3.3088237e-02],\n",
       "          [5.5980390e-01, 2.1176471e-01, 3.0392157e-02],\n",
       "          ...,\n",
       "          [9.7671568e-01, 6.0906863e-01, 2.9730392e-01],\n",
       "          [9.2647058e-01, 6.3333333e-01, 3.7450981e-01],\n",
       "          [7.1348041e-01, 4.9656862e-01, 3.0833334e-01]],\n",
       " \n",
       "         [[6.2818629e-01, 2.3406863e-01, 5.3921570e-03],\n",
       "          [5.9779412e-01, 2.3112746e-01, 2.8676471e-02],\n",
       "          [5.5931371e-01, 2.1348040e-01, 2.4019608e-02],\n",
       "          ...,\n",
       "          [9.9681371e-01, 6.0686272e-01, 2.7598038e-01],\n",
       "          [9.7500002e-01, 6.1887252e-01, 3.0833334e-01],\n",
       "          [9.4166666e-01, 6.4411765e-01, 3.7328431e-01]],\n",
       " \n",
       "         [[6.0955882e-01, 2.3308824e-01, 1.9607844e-03],\n",
       "          [5.7573527e-01, 2.2132353e-01, 7.8431377e-03],\n",
       "          [5.4313725e-01, 1.9803922e-01, 2.9411765e-03],\n",
       "          ...,\n",
       "          [9.9632353e-01, 6.0563725e-01, 2.6568627e-01],\n",
       "          [9.8872548e-01, 6.1250001e-01, 2.8014705e-01],\n",
       "          [9.6397060e-01, 6.2230390e-01, 3.3308825e-01]]],\n",
       " \n",
       " \n",
       "        [[[7.8333336e-01, 7.6764709e-01, 7.5588238e-01],\n",
       "          [7.9975492e-01, 7.8406864e-01, 7.8014708e-01],\n",
       "          [8.0735296e-01, 7.9166669e-01, 7.8774512e-01],\n",
       "          ...,\n",
       "          [8.0367649e-01, 7.8799021e-01, 7.8406864e-01],\n",
       "          [8.1421566e-01, 7.9852939e-01, 7.9460782e-01],\n",
       "          [7.9607844e-01, 7.9215688e-01, 7.8431374e-01]],\n",
       " \n",
       "         [[7.8210783e-01, 7.6544118e-01, 7.5367647e-01],\n",
       "          [7.8431374e-01, 7.6862746e-01, 7.5882351e-01],\n",
       "          [7.9411763e-01, 7.7843136e-01, 7.7450979e-01],\n",
       "          ...,\n",
       "          [7.9166669e-01, 7.7598041e-01, 7.7205884e-01],\n",
       "          [7.9411763e-01, 7.8725493e-01, 7.8039217e-01],\n",
       "          [7.8848040e-01, 7.8455883e-01, 7.6887256e-01]],\n",
       " \n",
       "         [[7.8137255e-01, 7.6176471e-01, 7.5000000e-01],\n",
       "          [7.8431374e-01, 7.6568627e-01, 7.5441176e-01],\n",
       "          [7.8799021e-01, 7.7156866e-01, 7.6617646e-01],\n",
       "          ...,\n",
       "          [7.9460782e-01, 7.8774512e-01, 7.8088236e-01],\n",
       "          [7.9240197e-01, 7.8774512e-01, 7.7573532e-01],\n",
       "          [7.8921568e-01, 7.8529412e-01, 7.6960784e-01]],\n",
       " \n",
       "         ...,\n",
       " \n",
       "         [[5.2205884e-01, 4.7009805e-01, 4.5735294e-01],\n",
       "          [4.9558824e-01, 4.5245099e-01, 4.3480393e-01],\n",
       "          [4.9142158e-01, 4.5269608e-01, 4.2843136e-01],\n",
       "          ...,\n",
       "          [6.3897061e-01, 6.3210785e-01, 6.2524509e-01],\n",
       "          [6.4877450e-01, 6.3308823e-01, 6.2916666e-01],\n",
       "          [6.5784311e-01, 6.4117646e-01, 6.3529414e-01]],\n",
       " \n",
       "         [[5.0588238e-01, 4.6642157e-01, 4.2965686e-01],\n",
       "          [5.0539213e-01, 4.6593139e-01, 4.2916667e-01],\n",
       "          [4.9362746e-01, 4.5343137e-01, 4.2107844e-01],\n",
       "          ...,\n",
       "          [6.1862743e-01, 6.1176473e-01, 5.9901959e-01],\n",
       "          [6.3284314e-01, 6.1715686e-01, 6.0735291e-01],\n",
       "          [6.3823527e-01, 6.1862743e-01, 6.0686272e-01]],\n",
       " \n",
       "         [[5.1274508e-01, 4.7352940e-01, 4.3431371e-01],\n",
       "          [5.1176471e-01, 4.7254902e-01, 4.3333334e-01],\n",
       "          [4.8602942e-01, 4.3799019e-01, 4.0171570e-01],\n",
       "          ...,\n",
       "          [6.1740196e-01, 6.1053920e-01, 5.9583336e-01],\n",
       "          [6.3700980e-01, 6.2132353e-01, 6.0955882e-01],\n",
       "          [6.2352943e-01, 6.0392159e-01, 5.8823532e-01]]],\n",
       " \n",
       " \n",
       "        [[[0.0000000e+00, 0.0000000e+00, 0.0000000e+00],\n",
       "          [0.0000000e+00, 0.0000000e+00, 0.0000000e+00],\n",
       "          [0.0000000e+00, 0.0000000e+00, 0.0000000e+00],\n",
       "          ...,\n",
       "          [0.0000000e+00, 0.0000000e+00, 0.0000000e+00],\n",
       "          [0.0000000e+00, 0.0000000e+00, 0.0000000e+00],\n",
       "          [0.0000000e+00, 0.0000000e+00, 0.0000000e+00]],\n",
       " \n",
       "         [[0.0000000e+00, 0.0000000e+00, 0.0000000e+00],\n",
       "          [0.0000000e+00, 0.0000000e+00, 0.0000000e+00],\n",
       "          [0.0000000e+00, 0.0000000e+00, 0.0000000e+00],\n",
       "          ...,\n",
       "          [0.0000000e+00, 0.0000000e+00, 0.0000000e+00],\n",
       "          [0.0000000e+00, 0.0000000e+00, 0.0000000e+00],\n",
       "          [0.0000000e+00, 0.0000000e+00, 0.0000000e+00]],\n",
       " \n",
       "         [[0.0000000e+00, 0.0000000e+00, 0.0000000e+00],\n",
       "          [0.0000000e+00, 0.0000000e+00, 0.0000000e+00],\n",
       "          [0.0000000e+00, 0.0000000e+00, 0.0000000e+00],\n",
       "          ...,\n",
       "          [0.0000000e+00, 0.0000000e+00, 0.0000000e+00],\n",
       "          [0.0000000e+00, 0.0000000e+00, 0.0000000e+00],\n",
       "          [0.0000000e+00, 0.0000000e+00, 0.0000000e+00]],\n",
       " \n",
       "         ...,\n",
       " \n",
       "         [[7.7254903e-01, 8.0490196e-01, 8.0000001e-01],\n",
       "          [7.7647060e-01, 8.0882353e-01, 8.0392158e-01],\n",
       "          [7.6666665e-01, 7.9681373e-01, 8.0000001e-01],\n",
       "          ...,\n",
       "          [7.1862745e-01, 7.5098038e-01, 7.3823529e-01],\n",
       "          [6.9803923e-01, 7.3039216e-01, 7.1764708e-01],\n",
       "          [6.8431371e-01, 7.1666664e-01, 7.0392156e-01]],\n",
       " \n",
       "         [[5.1176471e-01, 5.3235292e-01, 5.1862746e-01],\n",
       "          [5.0955880e-01, 5.3014708e-01, 5.1642156e-01],\n",
       "          [5.1102942e-01, 5.2941179e-01, 5.2377450e-01],\n",
       "          ...,\n",
       "          [4.7965688e-01, 5.0024509e-01, 4.7867647e-01],\n",
       "          [4.7107843e-01, 4.9166667e-01, 4.7009805e-01],\n",
       "          [4.5784312e-01, 4.7843137e-01, 4.5686275e-01]],\n",
       " \n",
       "         [[1.5784314e-01, 1.6568628e-01, 1.5392157e-01],\n",
       "          [1.5784314e-01, 1.6568628e-01, 1.5392157e-01],\n",
       "          [1.5490197e-01, 1.6274510e-01, 1.5098040e-01],\n",
       "          ...,\n",
       "          [1.5490197e-01, 1.6274510e-01, 1.4313726e-01],\n",
       "          [1.5098040e-01, 1.5882353e-01, 1.3921569e-01],\n",
       "          [1.4313726e-01, 1.5098040e-01, 1.3137256e-01]]]], dtype=float32),\n",
       " array([0., 1., 0., 0., 1., 1., 1., 1., 0., 1., 0., 0., 1., 0., 1., 0.],\n",
       "       dtype=float32))"
      ]
     },
     "execution_count": 41,
     "metadata": {},
     "output_type": "execute_result"
    }
   ],
   "source": [
    "train_sample"
   ]
  },
  {
   "cell_type": "code",
   "execution_count": 42,
   "metadata": {},
   "outputs": [
    {
     "data": {
      "text/plain": [
       "16"
      ]
     },
     "execution_count": 42,
     "metadata": {},
     "output_type": "execute_result"
    }
   ],
   "source": [
    "len(train_sample[0])"
   ]
  },
  {
   "cell_type": "code",
   "execution_count": 43,
   "metadata": {},
   "outputs": [],
   "source": [
    "# validation partition\n",
    "test_data = data.skip(round(len(data)*.7))\n",
    "test_data = test_data.take(round(len(data)*.3))\n",
    "test_data = test_data.batch(16)\n",
    "test_data = test_data.prefetch(8)"
   ]
  },
  {
   "cell_type": "markdown",
   "metadata": {},
   "source": [
    "Model Buiding"
   ]
  },
  {
   "cell_type": "markdown",
   "metadata": {},
   "source": [
    "Building Embedding Layer"
   ]
  },
  {
   "cell_type": "code",
   "execution_count": 67,
   "metadata": {},
   "outputs": [],
   "source": [
    "def make_embedding(): \n",
    "    inp = Input(shape=(100,100,3), name='input_image')\n",
    "    \n",
    "    # First block\n",
    "    c1 = Conv2D(64, (10,10), activation='relu')(inp)\n",
    "    m1 = MaxPooling2D(64, (2,2), padding='same')(c1)\n",
    "    \n",
    "    # Second block\n",
    "    c2 = Conv2D(128, (7,7), activation='relu')(m1)\n",
    "    m2 = MaxPooling2D(64, (2,2), padding='same')(c2)\n",
    "    \n",
    "    # Third block \n",
    "    c3 = Conv2D(128, (4,4), activation='relu')(m2)\n",
    "    m3 = MaxPooling2D(64, (2,2), padding='same')(c3)\n",
    "    \n",
    "    # Final embedding block\n",
    "    c4 = Conv2D(256, (4,4), activation='relu')(m3)\n",
    "    f1 = Flatten()(c4)\n",
    "    d1 = Dense(4096, activation='sigmoid')(f1)\n",
    "    \n",
    "    \n",
    "    return Model(inputs=[inp], outputs=[d1], name='embedding')"
   ]
  },
  {
   "cell_type": "code",
   "execution_count": 68,
   "metadata": {},
   "outputs": [],
   "source": [
    "embedding = make_embedding()"
   ]
  },
  {
   "cell_type": "code",
   "execution_count": 69,
   "metadata": {},
   "outputs": [
    {
     "name": "stdout",
     "output_type": "stream",
     "text": [
      "Model: \"embedding\"\n",
      "_________________________________________________________________\n",
      " Layer (type)                Output Shape              Param #   \n",
      "=================================================================\n",
      " input_image (InputLayer)    [(None, 100, 100, 3)]     0         \n",
      "                                                                 \n",
      " conv2d_4 (Conv2D)           (None, 91, 91, 64)        19264     \n",
      "                                                                 \n",
      " max_pooling2d_3 (MaxPooling  (None, 46, 46, 64)       0         \n",
      " 2D)                                                             \n",
      "                                                                 \n",
      " conv2d_5 (Conv2D)           (None, 40, 40, 128)       401536    \n",
      "                                                                 \n",
      " max_pooling2d_4 (MaxPooling  (None, 20, 20, 128)      0         \n",
      " 2D)                                                             \n",
      "                                                                 \n",
      " conv2d_6 (Conv2D)           (None, 17, 17, 128)       262272    \n",
      "                                                                 \n",
      " max_pooling2d_5 (MaxPooling  (None, 9, 9, 128)        0         \n",
      " 2D)                                                             \n",
      "                                                                 \n",
      " conv2d_7 (Conv2D)           (None, 6, 6, 256)         524544    \n",
      "                                                                 \n",
      " flatten_1 (Flatten)         (None, 9216)              0         \n",
      "                                                                 \n",
      " dense_2 (Dense)             (None, 4096)              37752832  \n",
      "                                                                 \n",
      "=================================================================\n",
      "Total params: 38,960,448\n",
      "Trainable params: 38,960,448\n",
      "Non-trainable params: 0\n",
      "_________________________________________________________________\n"
     ]
    }
   ],
   "source": [
    "embedding.summary()"
   ]
  },
  {
   "cell_type": "markdown",
   "metadata": {},
   "source": [
    "Build Distance Layer"
   ]
  },
  {
   "cell_type": "code",
   "execution_count": 47,
   "metadata": {},
   "outputs": [],
   "source": [
    "class L1Dist(Layer):\n",
    "    def __init__(self, **kwargs):\n",
    "        super().__init__()\n",
    "\n",
    "    def call(self,input_embedding,validation_embedding):\n",
    "        return tf.math.abs(input_embedding - validation_embedding)"
   ]
  },
  {
   "cell_type": "code",
   "execution_count": 48,
   "metadata": {},
   "outputs": [],
   "source": [
    "l1=L1Dist()"
   ]
  },
  {
   "cell_type": "markdown",
   "metadata": {},
   "source": [
    "Make Siamese Model"
   ]
  },
  {
   "cell_type": "code",
   "execution_count": 84,
   "metadata": {},
   "outputs": [],
   "source": [
    "input_image = Input(name='input_image',shape=(100,100,3))\n",
    "validation_image = Input(name='validation_image',shape=(100,100,3))"
   ]
  },
  {
   "cell_type": "code",
   "execution_count": 85,
   "metadata": {},
   "outputs": [],
   "source": [
    "inp_embedding = embedding(input_image)\n",
    "val_embedding = embedding(validation_image)"
   ]
  },
  {
   "cell_type": "code",
   "execution_count": 86,
   "metadata": {},
   "outputs": [],
   "source": [
    "siamese_layer = L1Dist()"
   ]
  },
  {
   "cell_type": "code",
   "execution_count": 87,
   "metadata": {},
   "outputs": [],
   "source": [
    "distances = siamese_layer(inp_embedding, val_embedding)"
   ]
  },
  {
   "cell_type": "code",
   "execution_count": 88,
   "metadata": {},
   "outputs": [],
   "source": [
    "classifier = Dense(1, activation='sigmoid')(distances)"
   ]
  },
  {
   "cell_type": "code",
   "execution_count": 90,
   "metadata": {},
   "outputs": [
    {
     "data": {
      "text/plain": [
       "<KerasTensor: shape=(None, 1) dtype=float32 (created by layer 'dense_4')>"
      ]
     },
     "execution_count": 90,
     "metadata": {},
     "output_type": "execute_result"
    }
   ],
   "source": [
    "classifier"
   ]
  },
  {
   "cell_type": "code",
   "execution_count": 91,
   "metadata": {},
   "outputs": [],
   "source": [
    "siamese_network = Model(inputs=[input_image,validation_image],outputs=classifier,name='SiameseNetwork')"
   ]
  },
  {
   "cell_type": "code",
   "execution_count": 93,
   "metadata": {},
   "outputs": [
    {
     "name": "stdout",
     "output_type": "stream",
     "text": [
      "Model: \"SiameseNetwork\"\n",
      "__________________________________________________________________________________________________\n",
      " Layer (type)                   Output Shape         Param #     Connected to                     \n",
      "==================================================================================================\n",
      " input_image (InputLayer)       [(None, 100, 100, 3  0           []                               \n",
      "                                )]                                                                \n",
      "                                                                                                  \n",
      " validation_image (InputLayer)  [(None, 100, 100, 3  0           []                               \n",
      "                                )]                                                                \n",
      "                                                                                                  \n",
      " embedding (Functional)         (None, 4096)         38960448    ['input_image[0][0]',            \n",
      "                                                                  'validation_image[0][0]']       \n",
      "                                                                                                  \n",
      " l1_dist_4 (L1Dist)             (None, 4096)         0           ['embedding[2][0]',              \n",
      "                                                                  'embedding[3][0]']              \n",
      "                                                                                                  \n",
      " dense_4 (Dense)                (None, 1)            4097        ['l1_dist_4[0][0]']              \n",
      "                                                                                                  \n",
      "==================================================================================================\n",
      "Total params: 38,964,545\n",
      "Trainable params: 38,964,545\n",
      "Non-trainable params: 0\n",
      "__________________________________________________________________________________________________\n"
     ]
    }
   ],
   "source": [
    "siamese_network.summary()"
   ]
  },
  {
   "cell_type": "code",
   "execution_count": 97,
   "metadata": {},
   "outputs": [],
   "source": [
    "def siamese_model():\n",
    "\n",
    "    # Anchor image input to neural network\n",
    "    input_image = Input(name=\"input_img\",shape=(100,100,3))\n",
    "    # Validation image input to neural network\n",
    "    validation_image = Input(name=\"validation_img\",shape=(100,100,3))\n",
    "\n",
    "    siamese_layer = L1Dist()\n",
    "    siamese_layer._name = \"distance\"    \n",
    "    distances = siamese_layer(embedding(input_image),embedding(validation_image))\n",
    "\n",
    "    classifier = Dense(1,activation='sigmoid')(distances)\n",
    "\n",
    "    return Model(inputs=[input_image,validation_image],outputs=classifier,name='SiameseNetwork')\n"
   ]
  },
  {
   "cell_type": "code",
   "execution_count": 98,
   "metadata": {},
   "outputs": [],
   "source": [
    "model = siamese_model()"
   ]
  },
  {
   "cell_type": "code",
   "execution_count": 99,
   "metadata": {},
   "outputs": [
    {
     "name": "stdout",
     "output_type": "stream",
     "text": [
      "Model: \"SiameseNetwork\"\n",
      "__________________________________________________________________________________________________\n",
      " Layer (type)                   Output Shape         Param #     Connected to                     \n",
      "==================================================================================================\n",
      " input_img (InputLayer)         [(None, 100, 100, 3  0           []                               \n",
      "                                )]                                                                \n",
      "                                                                                                  \n",
      " validation_img (InputLayer)    [(None, 100, 100, 3  0           []                               \n",
      "                                )]                                                                \n",
      "                                                                                                  \n",
      " embedding (Functional)         (None, 4096)         38960448    ['input_img[0][0]',              \n",
      "                                                                  'validation_img[0][0]']         \n",
      "                                                                                                  \n",
      " distance (L1Dist)              (None, 4096)         0           ['embedding[6][0]',              \n",
      "                                                                  'embedding[7][0]']              \n",
      "                                                                                                  \n",
      " dense_6 (Dense)                (None, 1)            4097        ['distance[0][0]']               \n",
      "                                                                                                  \n",
      "==================================================================================================\n",
      "Total params: 38,964,545\n",
      "Trainable params: 38,964,545\n",
      "Non-trainable params: 0\n",
      "__________________________________________________________________________________________________\n"
     ]
    }
   ],
   "source": [
    "model.summary()"
   ]
  },
  {
   "cell_type": "markdown",
   "metadata": {},
   "source": [
    "Training Siamese Model"
   ]
  },
  {
   "cell_type": "markdown",
   "metadata": {},
   "source": [
    "Setup Loss and optimizer"
   ]
  },
  {
   "cell_type": "code",
   "execution_count": 100,
   "metadata": {},
   "outputs": [],
   "source": [
    "binary_cross_loss=tf.losses.BinaryCrossentropy()"
   ]
  },
  {
   "cell_type": "code",
   "execution_count": 101,
   "metadata": {},
   "outputs": [],
   "source": [
    "optimizer = tf.keras.optimizers.Adam(1e-4)"
   ]
  },
  {
   "cell_type": "markdown",
   "metadata": {},
   "source": [
    "Checkpoints"
   ]
  },
  {
   "cell_type": "code",
   "execution_count": 103,
   "metadata": {},
   "outputs": [],
   "source": [
    "checkpoint_dir = './training_check5'\n",
    "checkpoint_prefix = os.path.join(checkpoint_dir,'ckpt')\n",
    "checkpoint = tf.train.Checkpoint(opt=optimizer,siamese_model=model)"
   ]
  },
  {
   "cell_type": "markdown",
   "metadata": {},
   "source": [
    "Build Train Step Function"
   ]
  },
  {
   "cell_type": "code",
   "execution_count": 104,
   "metadata": {},
   "outputs": [],
   "source": [
    "test_batch=train_data.as_numpy_iterator()"
   ]
  },
  {
   "cell_type": "code",
   "execution_count": 105,
   "metadata": {},
   "outputs": [],
   "source": [
    "batch1 = test_batch.next()"
   ]
  },
  {
   "cell_type": "code",
   "execution_count": 106,
   "metadata": {},
   "outputs": [],
   "source": [
    "x=batch1[:2]"
   ]
  },
  {
   "cell_type": "code",
   "execution_count": 108,
   "metadata": {},
   "outputs": [],
   "source": [
    "y=batch1[2]"
   ]
  },
  {
   "cell_type": "code",
   "execution_count": 79,
   "metadata": {},
   "outputs": [],
   "source": [
    "@tf.function\n",
    "def train_step(batch):\n",
    "    with tf.GradientTape() as tape:\n",
    "        # Get anchor and positive or negetive image\n",
    "        X=batch[:2]\n",
    "\n",
    "        # Get labels\n",
    "        Y=batch[2]\n",
    "        yhat = model(X,training=True)\n",
    "\n",
    "        loss=binary_cross_loss(Y,yhat)\n",
    "    print(loss)\n",
    "    #calculate gradients\n",
    "    grads = tape.gradient(loss,model.trainable_variables)\n",
    "        \n",
    "    # Calculate updated weights and apply to siamese model\n",
    "    optimizer.apply_gradients(zip(grads,model.trainable_variables))\n",
    "\n",
    "    return loss"
   ]
  },
  {
   "cell_type": "code",
   "execution_count": 109,
   "metadata": {},
   "outputs": [],
   "source": [
    "def train(data, EPOCHS):\n",
    "    # Loop through epochs\n",
    "    for epoch in range(1, EPOCHS+1):\n",
    "        print('\\n Epoch {}/{}'.format(epoch, EPOCHS))\n",
    "        progbar = tf.keras.utils.Progbar(len(data))\n",
    "        \n",
    "        # Loop through each batch\n",
    "        for idx, batch in enumerate(data):\n",
    "            # Run train step here\n",
    "            train_step(batch)\n",
    "            progbar.update(idx+1)\n",
    "        \n",
    "        # Save checkpoints\n",
    "        if epoch % 10 == 0: \n",
    "            checkpoint.save(file_prefix=checkpoint_prefix)"
   ]
  },
  {
   "cell_type": "markdown",
   "metadata": {},
   "source": [
    "Train the model"
   ]
  },
  {
   "cell_type": "code",
   "execution_count": 110,
   "metadata": {},
   "outputs": [],
   "source": [
    "epochs = 50\n"
   ]
  },
  {
   "cell_type": "code",
   "execution_count": 111,
   "metadata": {},
   "outputs": [
    {
     "name": "stdout",
     "output_type": "stream",
     "text": [
      "\n",
      " Epoch 1/50\n"
     ]
    },
    {
     "ename": "ValueError",
     "evalue": "in user code:\n\n    File \"C:\\Users\\himan\\AppData\\Local\\Temp\\ipykernel_9328\\2626755191.py\", line 9, in train_step  *\n        yhat = model(X,training=True)\n    File \"c:\\Users\\himan\\anaconda3\\envs\\py310\\lib\\site-packages\\keras\\utils\\traceback_utils.py\", line 70, in error_handler  **\n        raise e.with_traceback(filtered_tb) from None\n    File \"c:\\Users\\himan\\anaconda3\\envs\\py310\\lib\\site-packages\\keras\\engine\\input_spec.py\", line 295, in assert_input_compatibility\n        raise ValueError(\n\n    ValueError: Input 0 of layer \"SiameseNetwork\" is incompatible with the layer: expected shape=(None, 100, 100, 3), found shape=(100, 100, 3)\n",
     "output_type": "error",
     "traceback": [
      "\u001b[1;31m---------------------------------------------------------------------------\u001b[0m",
      "\u001b[1;31mValueError\u001b[0m                                Traceback (most recent call last)",
      "\u001b[1;32mc:\\Users\\himan\\OneDrive\\Desktop\\python\\Machine Learning\\Deep Learning\\face_recognition_checkpoint.ipynb Cell 101\u001b[0m line \u001b[0;36m1\n\u001b[1;32m----> <a href='vscode-notebook-cell:/c%3A/Users/himan/OneDrive/Desktop/python/Machine%20Learning/Deep%20Learning/face_recognition_checkpoint.ipynb#Y163sZmlsZQ%3D%3D?line=0'>1</a>\u001b[0m train(data, epochs)\n",
      "\u001b[1;32mc:\\Users\\himan\\OneDrive\\Desktop\\python\\Machine Learning\\Deep Learning\\face_recognition_checkpoint.ipynb Cell 101\u001b[0m line \u001b[0;36m1\n\u001b[0;32m      <a href='vscode-notebook-cell:/c%3A/Users/himan/OneDrive/Desktop/python/Machine%20Learning/Deep%20Learning/face_recognition_checkpoint.ipynb#Y163sZmlsZQ%3D%3D?line=6'>7</a>\u001b[0m \u001b[39m# Loop through each batch\u001b[39;00m\n\u001b[0;32m      <a href='vscode-notebook-cell:/c%3A/Users/himan/OneDrive/Desktop/python/Machine%20Learning/Deep%20Learning/face_recognition_checkpoint.ipynb#Y163sZmlsZQ%3D%3D?line=7'>8</a>\u001b[0m \u001b[39mfor\u001b[39;00m idx, batch \u001b[39min\u001b[39;00m \u001b[39menumerate\u001b[39m(data):\n\u001b[0;32m      <a href='vscode-notebook-cell:/c%3A/Users/himan/OneDrive/Desktop/python/Machine%20Learning/Deep%20Learning/face_recognition_checkpoint.ipynb#Y163sZmlsZQ%3D%3D?line=8'>9</a>\u001b[0m     \u001b[39m# Run train step here\u001b[39;00m\n\u001b[1;32m---> <a href='vscode-notebook-cell:/c%3A/Users/himan/OneDrive/Desktop/python/Machine%20Learning/Deep%20Learning/face_recognition_checkpoint.ipynb#Y163sZmlsZQ%3D%3D?line=9'>10</a>\u001b[0m     train_step(batch)\n\u001b[0;32m     <a href='vscode-notebook-cell:/c%3A/Users/himan/OneDrive/Desktop/python/Machine%20Learning/Deep%20Learning/face_recognition_checkpoint.ipynb#Y163sZmlsZQ%3D%3D?line=10'>11</a>\u001b[0m     progbar\u001b[39m.\u001b[39mupdate(idx\u001b[39m+\u001b[39m\u001b[39m1\u001b[39m)\n\u001b[0;32m     <a href='vscode-notebook-cell:/c%3A/Users/himan/OneDrive/Desktop/python/Machine%20Learning/Deep%20Learning/face_recognition_checkpoint.ipynb#Y163sZmlsZQ%3D%3D?line=12'>13</a>\u001b[0m \u001b[39m# Save checkpoints\u001b[39;00m\n",
      "File \u001b[1;32mc:\\Users\\himan\\anaconda3\\envs\\py310\\lib\\site-packages\\tensorflow\\python\\util\\traceback_utils.py:153\u001b[0m, in \u001b[0;36mfilter_traceback.<locals>.error_handler\u001b[1;34m(*args, **kwargs)\u001b[0m\n\u001b[0;32m    151\u001b[0m \u001b[39mexcept\u001b[39;00m \u001b[39mException\u001b[39;00m \u001b[39mas\u001b[39;00m e:\n\u001b[0;32m    152\u001b[0m   filtered_tb \u001b[39m=\u001b[39m _process_traceback_frames(e\u001b[39m.\u001b[39m__traceback__)\n\u001b[1;32m--> 153\u001b[0m   \u001b[39mraise\u001b[39;00m e\u001b[39m.\u001b[39mwith_traceback(filtered_tb) \u001b[39mfrom\u001b[39;00m \u001b[39mNone\u001b[39;00m\n\u001b[0;32m    154\u001b[0m \u001b[39mfinally\u001b[39;00m:\n\u001b[0;32m    155\u001b[0m   \u001b[39mdel\u001b[39;00m filtered_tb\n",
      "File \u001b[1;32m~\\AppData\\Local\\Temp\\__autograph_generated_file_7k9_5dr.py:13\u001b[0m, in \u001b[0;36mouter_factory.<locals>.inner_factory.<locals>.tf__train_step\u001b[1;34m(batch)\u001b[0m\n\u001b[0;32m     11\u001b[0m     X \u001b[39m=\u001b[39m ag__\u001b[39m.\u001b[39mld(batch)[:\u001b[39m2\u001b[39m]\n\u001b[0;32m     12\u001b[0m     Y \u001b[39m=\u001b[39m ag__\u001b[39m.\u001b[39mld(batch)[\u001b[39m2\u001b[39m]\n\u001b[1;32m---> 13\u001b[0m     yhat \u001b[39m=\u001b[39m ag__\u001b[39m.\u001b[39;49mconverted_call(ag__\u001b[39m.\u001b[39;49mld(model), (ag__\u001b[39m.\u001b[39;49mld(X),), \u001b[39mdict\u001b[39;49m(training\u001b[39m=\u001b[39;49m\u001b[39mTrue\u001b[39;49;00m), fscope)\n\u001b[0;32m     14\u001b[0m     loss \u001b[39m=\u001b[39m ag__\u001b[39m.\u001b[39mconverted_call(ag__\u001b[39m.\u001b[39mld(binary_cross_loss), (ag__\u001b[39m.\u001b[39mld(Y), ag__\u001b[39m.\u001b[39mld(yhat)), \u001b[39mNone\u001b[39;00m, fscope)\n\u001b[0;32m     15\u001b[0m ag__\u001b[39m.\u001b[39mld(\u001b[39mprint\u001b[39m)(ag__\u001b[39m.\u001b[39mld(loss))\n",
      "File \u001b[1;32mc:\\Users\\himan\\anaconda3\\envs\\py310\\lib\\site-packages\\keras\\utils\\traceback_utils.py:70\u001b[0m, in \u001b[0;36mfilter_traceback.<locals>.error_handler\u001b[1;34m(*args, **kwargs)\u001b[0m\n\u001b[0;32m     67\u001b[0m     filtered_tb \u001b[39m=\u001b[39m _process_traceback_frames(e\u001b[39m.\u001b[39m__traceback__)\n\u001b[0;32m     68\u001b[0m     \u001b[39m# To get the full stack trace, call:\u001b[39;00m\n\u001b[0;32m     69\u001b[0m     \u001b[39m# `tf.debugging.disable_traceback_filtering()`\u001b[39;00m\n\u001b[1;32m---> 70\u001b[0m     \u001b[39mraise\u001b[39;00m e\u001b[39m.\u001b[39mwith_traceback(filtered_tb) \u001b[39mfrom\u001b[39;00m \u001b[39mNone\u001b[39;00m\n\u001b[0;32m     71\u001b[0m \u001b[39mfinally\u001b[39;00m:\n\u001b[0;32m     72\u001b[0m     \u001b[39mdel\u001b[39;00m filtered_tb\n",
      "File \u001b[1;32mc:\\Users\\himan\\anaconda3\\envs\\py310\\lib\\site-packages\\keras\\engine\\input_spec.py:295\u001b[0m, in \u001b[0;36massert_input_compatibility\u001b[1;34m(input_spec, inputs, layer_name)\u001b[0m\n\u001b[0;32m    293\u001b[0m \u001b[39mif\u001b[39;00m spec_dim \u001b[39mis\u001b[39;00m \u001b[39mnot\u001b[39;00m \u001b[39mNone\u001b[39;00m \u001b[39mand\u001b[39;00m dim \u001b[39mis\u001b[39;00m \u001b[39mnot\u001b[39;00m \u001b[39mNone\u001b[39;00m:\n\u001b[0;32m    294\u001b[0m     \u001b[39mif\u001b[39;00m spec_dim \u001b[39m!=\u001b[39m dim:\n\u001b[1;32m--> 295\u001b[0m         \u001b[39mraise\u001b[39;00m \u001b[39mValueError\u001b[39;00m(\n\u001b[0;32m    296\u001b[0m             \u001b[39mf\u001b[39m\u001b[39m'\u001b[39m\u001b[39mInput \u001b[39m\u001b[39m{\u001b[39;00minput_index\u001b[39m}\u001b[39;00m\u001b[39m of layer \u001b[39m\u001b[39m\"\u001b[39m\u001b[39m{\u001b[39;00mlayer_name\u001b[39m}\u001b[39;00m\u001b[39m\"\u001b[39m\u001b[39m is \u001b[39m\u001b[39m'\u001b[39m\n\u001b[0;32m    297\u001b[0m             \u001b[39m\"\u001b[39m\u001b[39mincompatible with the layer: \u001b[39m\u001b[39m\"\u001b[39m\n\u001b[0;32m    298\u001b[0m             \u001b[39mf\u001b[39m\u001b[39m\"\u001b[39m\u001b[39mexpected shape=\u001b[39m\u001b[39m{\u001b[39;00mspec\u001b[39m.\u001b[39mshape\u001b[39m}\u001b[39;00m\u001b[39m, \u001b[39m\u001b[39m\"\u001b[39m\n\u001b[0;32m    299\u001b[0m             \u001b[39mf\u001b[39m\u001b[39m\"\u001b[39m\u001b[39mfound shape=\u001b[39m\u001b[39m{\u001b[39;00mdisplay_shape(x\u001b[39m.\u001b[39mshape)\u001b[39m}\u001b[39;00m\u001b[39m\"\u001b[39m\n\u001b[0;32m    300\u001b[0m         )\n",
      "\u001b[1;31mValueError\u001b[0m: in user code:\n\n    File \"C:\\Users\\himan\\AppData\\Local\\Temp\\ipykernel_9328\\2626755191.py\", line 9, in train_step  *\n        yhat = model(X,training=True)\n    File \"c:\\Users\\himan\\anaconda3\\envs\\py310\\lib\\site-packages\\keras\\utils\\traceback_utils.py\", line 70, in error_handler  **\n        raise e.with_traceback(filtered_tb) from None\n    File \"c:\\Users\\himan\\anaconda3\\envs\\py310\\lib\\site-packages\\keras\\engine\\input_spec.py\", line 295, in assert_input_compatibility\n        raise ValueError(\n\n    ValueError: Input 0 of layer \"SiameseNetwork\" is incompatible with the layer: expected shape=(None, 100, 100, 3), found shape=(100, 100, 3)\n"
     ]
    }
   ],
   "source": [
    "train(data, epochs)\n"
   ]
  },
  {
   "cell_type": "markdown",
   "metadata": {},
   "source": [
    "Evaluate Model"
   ]
  },
  {
   "cell_type": "markdown",
   "metadata": {},
   "source": [
    "Import Metrics"
   ]
  },
  {
   "cell_type": "code",
   "execution_count": 65,
   "metadata": {},
   "outputs": [],
   "source": [
    "# Import metric calculations\n",
    "from tensorflow.keras.metrics import Precision, Recall"
   ]
  },
  {
   "cell_type": "markdown",
   "metadata": {},
   "source": [
    "Make Predictions\n"
   ]
  },
  {
   "cell_type": "code",
   "execution_count": null,
   "metadata": {},
   "outputs": [],
   "source": [
    "test_input, test_val, y_true = test_data.as_numpy_iterator().next()\n"
   ]
  },
  {
   "cell_type": "code",
   "execution_count": null,
   "metadata": {},
   "outputs": [],
   "source": [
    "# Make predictions\n",
    "y_hat = model.predict([test_input, test_val])\n",
    "y_hat"
   ]
  },
  {
   "cell_type": "code",
   "execution_count": null,
   "metadata": {},
   "outputs": [],
   "source": [
    "# Post processing the results \n",
    "[1 if prediction > 0.5 else 0 for prediction in y_hat ]"
   ]
  },
  {
   "cell_type": "code",
   "execution_count": null,
   "metadata": {},
   "outputs": [],
   "source": [
    "y_true"
   ]
  },
  {
   "cell_type": "markdown",
   "metadata": {},
   "source": [
    "Calculate Metrics"
   ]
  },
  {
   "cell_type": "code",
   "execution_count": null,
   "metadata": {},
   "outputs": [],
   "source": [
    "# Creating a metric object \n",
    "m = Recall()\n",
    "\n",
    "# Calculating the recall value \n",
    "m.update_state(y_true, y_hat)\n",
    "\n",
    "# Return Recall Result\n",
    "m.result().numpy()"
   ]
  },
  {
   "cell_type": "code",
   "execution_count": null,
   "metadata": {},
   "outputs": [],
   "source": [
    "# Creating a metric object \n",
    "m = Precision()\n",
    "\n",
    "# Calculating the recall value \n",
    "m.update_state(y_true, y_hat)\n",
    "\n",
    "# Return Recall Result\n",
    "m.result().numpy()"
   ]
  },
  {
   "cell_type": "code",
   "execution_count": null,
   "metadata": {},
   "outputs": [],
   "source": [
    "# Set plot size \n",
    "plt.figure(figsize=(10,8))\n",
    "\n",
    "# Set first subplot\n",
    "plt.subplot(1,2,1)\n",
    "plt.imshow(test_input[0])\n",
    "\n",
    "# Set second subplot\n",
    "plt.subplot(1,2,2)\n",
    "plt.imshow(test_val[0])\n",
    "\n",
    "# Renders cleanly\n",
    "plt.show()"
   ]
  },
  {
   "cell_type": "markdown",
   "metadata": {},
   "source": [
    "Save Model"
   ]
  },
  {
   "cell_type": "code",
   "execution_count": null,
   "metadata": {},
   "outputs": [],
   "source": [
    "# Save weights\n",
    "model.save('siameseeeemodelll.h5')"
   ]
  },
  {
   "cell_type": "code",
   "execution_count": null,
   "metadata": {},
   "outputs": [],
   "source": [
    "L1Dist"
   ]
  },
  {
   "cell_type": "code",
   "execution_count": null,
   "metadata": {},
   "outputs": [],
   "source": [
    "# Reload model \n",
    "model1 = tf.keras.models.load_model('siameseeeemodel.h5',custom_objects={'L1Dist':L1Dist, 'BinaryCrossentropy':tf.losses.BinaryCrossentropy})"
   ]
  },
  {
   "cell_type": "code",
   "execution_count": null,
   "metadata": {},
   "outputs": [],
   "source": [
    "# Make predictions with reloaded model\n",
    "model1.predict([test_input, test_val])"
   ]
  },
  {
   "cell_type": "code",
   "execution_count": null,
   "metadata": {},
   "outputs": [],
   "source": [
    "# View model summary\n",
    "model1.summary()"
   ]
  },
  {
   "cell_type": "markdown",
   "metadata": {},
   "source": [
    "Real Time Test"
   ]
  },
  {
   "cell_type": "code",
   "execution_count": null,
   "metadata": {},
   "outputs": [],
   "source": [
    "os.listdir(os.path.join('application_data', 'verification_image'))\n"
   ]
  },
  {
   "cell_type": "code",
   "execution_count": null,
   "metadata": {},
   "outputs": [],
   "source": [
    "def verify(model, detection_threshold, verification_threshold):\n",
    "    # Build results array\n",
    "    results = []\n",
    "    for image in os.listdir(os.path.join('application_data', 'verification_image')):\n",
    "        input_img = preprocess(os.path.join('application_data', 'input_image', 'input_image.jpg'))\n",
    "        validation_img = preprocess(os.path.join('application_data', 'verification_image', image))\n",
    "        \n",
    "        # Make Predictions \n",
    "        result = model1.predict(list(np.expand_dims([input_img, validation_img], axis=1)))\n",
    "        results.append(result)\n",
    "    \n",
    "    # Detection Threshold: Metric above which a prediciton is considered positive \n",
    "    detection = np.sum(np.array(results) > detection_threshold)\n",
    "    \n",
    "    # Verification Threshold: Proportion of positive predictions / total positive samples \n",
    "    verification = detection / len(os.listdir(os.path.join('application_data', 'verification_image'))) \n",
    "    verified = verification > verification_threshold\n",
    "    \n",
    "    return results, verified"
   ]
  },
  {
   "cell_type": "markdown",
   "metadata": {},
   "source": [
    "OpenCV Real Time Verification"
   ]
  },
  {
   "cell_type": "code",
   "execution_count": null,
   "metadata": {},
   "outputs": [],
   "source": [
    "cap = cv2.VideoCapture(0)\n",
    "while cap.isOpened():\n",
    "    ret, frame = cap.read()\n",
    "    frame = frame[120:120+250,200:200+250, :]\n",
    "    \n",
    "    cv2.imshow('Verification', frame)\n",
    "    \n",
    "    # Verification trigger\n",
    "    if cv2.waitKey(10) & 0xFF == ord('v'):\n",
    "        # Save input image to application_data/input_image folder \n",
    "        cv2.imwrite(os.path.join('application_data', 'input_image', 'input_image.jpg'), frame)\n",
    "        # Run verification\n",
    "        results, verified = verify(model, 0.9, 0.7)\n",
    "        print(verified)\n",
    "    \n",
    "    if cv2.waitKey(10) & 0xFF == ord('q'):\n",
    "        break\n",
    "cap.release()\n",
    "cv2.destroyAllWindows()"
   ]
  },
  {
   "cell_type": "code",
   "execution_count": null,
   "metadata": {},
   "outputs": [],
   "source": [
    "results"
   ]
  },
  {
   "cell_type": "code",
   "execution_count": null,
   "metadata": {},
   "outputs": [],
   "source": [
    "np.squeeze(results)>0.9"
   ]
  },
  {
   "cell_type": "code",
   "execution_count": null,
   "metadata": {},
   "outputs": [],
   "source": [
    "np.sum(np.squeeze(results)>0.9)"
   ]
  },
  {
   "cell_type": "code",
   "execution_count": null,
   "metadata": {},
   "outputs": [],
   "source": [
    "33/50"
   ]
  },
  {
   "cell_type": "code",
   "execution_count": null,
   "metadata": {},
   "outputs": [],
   "source": [
    "!pip install kivy[full] kivy_examples"
   ]
  },
  {
   "cell_type": "code",
   "execution_count": null,
   "metadata": {},
   "outputs": [],
   "source": []
  }
 ],
 "metadata": {
  "kernelspec": {
   "display_name": "Python 3 (ipykernel)",
   "language": "python",
   "name": "python3"
  },
  "language_info": {
   "codemirror_mode": {
    "name": "ipython",
    "version": 3
   },
   "file_extension": ".py",
   "mimetype": "text/x-python",
   "name": "python",
   "nbconvert_exporter": "python",
   "pygments_lexer": "ipython3",
   "version": "3.10.13"
  }
 },
 "nbformat": 4,
 "nbformat_minor": 2
}
